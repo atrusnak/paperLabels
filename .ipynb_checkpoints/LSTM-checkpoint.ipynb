{
 "cells": [
  {
   "cell_type": "markdown",
   "metadata": {
    "id": "u_cXsyFtuPB7"
   },
   "source": [
    "# Large-scale multi-label text classification\n",
    "\n",
    "**Author:** [Sayak Paul](https://twitter.com/RisingSayak), [Soumik Rakshit](https://github.com/soumik12345)<br>\n",
    "**Date created:** 2020/09/25<br>\n",
    "**Last modified:** 2020/09/26<br>\n",
    "**Description:** Implementing a large-scale multi-label text classification model."
   ]
  },
  {
   "cell_type": "markdown",
   "metadata": {
    "id": "9jwS32LBuPCB"
   },
   "source": [
    "## Introduction\n",
    "\n",
    "In this example, we will build a multi-label text classifier to predict the subject areas\n",
    "of arXiv papers from their abstract bodies. This type of classifier can be useful for\n",
    "conference submission portals like [OpenReview](https://openreview.net/). Given a paper\n",
    "abstract, the portal could provide suggestions for which areas the paper would\n",
    "best belong to.\n",
    "\n",
    "The dataset was collected using the\n",
    "[`arXiv` Python library](https://github.com/lukasschwab/arxiv.py)\n",
    "that provides a wrapper around the\n",
    "[original arXiv API](http://arxiv.org/help/api/index).\n",
    "To learn more about the data collection process, please refer to\n",
    "[this notebook](https://github.com/soumik12345/multi-label-text-classification/blob/master/arxiv_scrape.ipynb).\n",
    "Additionally, you can also find the dataset on\n",
    "[Kaggle](https://www.kaggle.com/spsayakpaul/arxiv-paper-abstracts)."
   ]
  },
  {
   "cell_type": "markdown",
   "metadata": {
    "id": "RoZ4uRYNuPCB"
   },
   "source": [
    "## Imports"
   ]
  },
  {
   "cell_type": "code",
   "execution_count": 149,
   "metadata": {
    "id": "PI-RJ-2xuPCC"
   },
   "outputs": [],
   "source": [
    "from tensorflow.keras import layers\n",
    "from tensorflow import keras\n",
    "import tensorflow as tf\n",
    "\n",
    "from sklearn.model_selection import train_test_split\n",
    "from ast import literal_eval\n",
    "\n",
    "import matplotlib.pyplot as plt\n",
    "import pandas as pd\n",
    "import numpy as np"
   ]
  },
  {
   "cell_type": "markdown",
   "metadata": {
    "id": "V6hzCuyruPCE"
   },
   "source": [
    "## Perform exploratory data analysis\n",
    "\n",
    "In this section, we first load the dataset into a `pandas` dataframe and then perform\n",
    "some basic exploratory data analysis (EDA)."
   ]
  },
  {
   "cell_type": "code",
   "execution_count": 150,
   "metadata": {
    "id": "PTki4xc1uPCE"
   },
   "outputs": [
    {
     "data": {
      "text/html": [
       "<div>\n",
       "<style scoped>\n",
       "    .dataframe tbody tr th:only-of-type {\n",
       "        vertical-align: middle;\n",
       "    }\n",
       "\n",
       "    .dataframe tbody tr th {\n",
       "        vertical-align: top;\n",
       "    }\n",
       "\n",
       "    .dataframe thead th {\n",
       "        text-align: right;\n",
       "    }\n",
       "</style>\n",
       "<table border=\"1\" class=\"dataframe\">\n",
       "  <thead>\n",
       "    <tr style=\"text-align: right;\">\n",
       "      <th></th>\n",
       "      <th>titles</th>\n",
       "      <th>summaries</th>\n",
       "      <th>terms</th>\n",
       "    </tr>\n",
       "  </thead>\n",
       "  <tbody>\n",
       "    <tr>\n",
       "      <th>0</th>\n",
       "      <td>Survey on Semantic Stereo Matching / Semantic ...</td>\n",
       "      <td>Stereo matching is one of the widely used tech...</td>\n",
       "      <td>['cs.CV', 'cs.LG']</td>\n",
       "    </tr>\n",
       "    <tr>\n",
       "      <th>1</th>\n",
       "      <td>FUTURE-AI: Guiding Principles and Consensus Re...</td>\n",
       "      <td>The recent advancements in artificial intellig...</td>\n",
       "      <td>['cs.CV', 'cs.AI', 'cs.LG']</td>\n",
       "    </tr>\n",
       "    <tr>\n",
       "      <th>2</th>\n",
       "      <td>Enforcing Mutual Consistency of Hard Regions f...</td>\n",
       "      <td>In this paper, we proposed a novel mutual cons...</td>\n",
       "      <td>['cs.CV', 'cs.AI']</td>\n",
       "    </tr>\n",
       "    <tr>\n",
       "      <th>3</th>\n",
       "      <td>Parameter Decoupling Strategy for Semi-supervi...</td>\n",
       "      <td>Consistency training has proven to be an advan...</td>\n",
       "      <td>['cs.CV']</td>\n",
       "    </tr>\n",
       "    <tr>\n",
       "      <th>4</th>\n",
       "      <td>Background-Foreground Segmentation for Interio...</td>\n",
       "      <td>To ensure safety in automated driving, the cor...</td>\n",
       "      <td>['cs.CV', 'cs.LG']</td>\n",
       "    </tr>\n",
       "  </tbody>\n",
       "</table>\n",
       "</div>"
      ],
      "text/plain": [
       "                                              titles  \\\n",
       "0  Survey on Semantic Stereo Matching / Semantic ...   \n",
       "1  FUTURE-AI: Guiding Principles and Consensus Re...   \n",
       "2  Enforcing Mutual Consistency of Hard Regions f...   \n",
       "3  Parameter Decoupling Strategy for Semi-supervi...   \n",
       "4  Background-Foreground Segmentation for Interio...   \n",
       "\n",
       "                                           summaries  \\\n",
       "0  Stereo matching is one of the widely used tech...   \n",
       "1  The recent advancements in artificial intellig...   \n",
       "2  In this paper, we proposed a novel mutual cons...   \n",
       "3  Consistency training has proven to be an advan...   \n",
       "4  To ensure safety in automated driving, the cor...   \n",
       "\n",
       "                         terms  \n",
       "0           ['cs.CV', 'cs.LG']  \n",
       "1  ['cs.CV', 'cs.AI', 'cs.LG']  \n",
       "2           ['cs.CV', 'cs.AI']  \n",
       "3                    ['cs.CV']  \n",
       "4           ['cs.CV', 'cs.LG']  "
      ]
     },
     "execution_count": 150,
     "metadata": {},
     "output_type": "execute_result"
    }
   ],
   "source": [
    "arxiv_data = pd.read_csv(\n",
    "    \"https://github.com/soumik12345/multi-label-text-classification/releases/download/v0.2/arxiv_data.csv\"\n",
    ")\n",
    "arxiv_data.head()"
   ]
  },
  {
   "cell_type": "markdown",
   "metadata": {
    "id": "T6QDE1wkuPCF"
   },
   "source": [
    "Our text features are present in the `summaries` column and their corresponding labels\n",
    "are in `terms`. As you can notice, there are multiple categories associated with a\n",
    "particular entry."
   ]
  },
  {
   "cell_type": "code",
   "execution_count": 151,
   "metadata": {
    "id": "Rq-T6GkXuPCG"
   },
   "outputs": [
    {
     "name": "stdout",
     "output_type": "stream",
     "text": [
      "There are 51774 rows in the dataset.\n"
     ]
    }
   ],
   "source": [
    "print(f\"There are {len(arxiv_data)} rows in the dataset.\")"
   ]
  },
  {
   "cell_type": "markdown",
   "metadata": {
    "id": "QZ_E3gMWuPCG"
   },
   "source": [
    "Real-world data is noisy. One of the most commonly observed source of noise is data\n",
    "duplication. Here we notice that our initial dataset has got about 13k duplicate entries."
   ]
  },
  {
   "cell_type": "code",
   "execution_count": 152,
   "metadata": {
    "id": "Dx9JFz4BuPCH"
   },
   "outputs": [
    {
     "name": "stdout",
     "output_type": "stream",
     "text": [
      "There are 12802 duplicate titles.\n"
     ]
    }
   ],
   "source": [
    "total_duplicate_titles = sum(arxiv_data[\"titles\"].duplicated())\n",
    "print(f\"There are {total_duplicate_titles} duplicate titles.\")"
   ]
  },
  {
   "cell_type": "markdown",
   "metadata": {
    "id": "UzJjBGHtuPCI"
   },
   "source": [
    "Before proceeding further, we drop these entries."
   ]
  },
  {
   "cell_type": "code",
   "execution_count": 153,
   "metadata": {
    "id": "nUIAGSZHuPCJ"
   },
   "outputs": [
    {
     "name": "stdout",
     "output_type": "stream",
     "text": [
      "There are 38972 rows in the deduplicated dataset.\n",
      "2321\n",
      "3157\n"
     ]
    }
   ],
   "source": [
    "arxiv_data = arxiv_data[~arxiv_data[\"titles\"].duplicated()]\n",
    "print(f\"There are {len(arxiv_data)} rows in the deduplicated dataset.\")\n",
    "\n",
    "# There are some terms with occurrence as low as 1.\n",
    "print(sum(arxiv_data[\"terms\"].value_counts() == 1))\n",
    "\n",
    "# How many unique terms?\n",
    "print(arxiv_data[\"terms\"].nunique())"
   ]
  },
  {
   "cell_type": "markdown",
   "metadata": {
    "id": "BKKBusjnuPCK"
   },
   "source": [
    "As observed above, out of 3,157 unique combinations of `terms`, 2,321 entries have the\n",
    "lowest occurrence. To prepare our train, validation, and test sets with\n",
    "[stratification](https://en.wikipedia.org/wiki/Stratified_sampling), we need to drop\n",
    "these terms."
   ]
  },
  {
   "cell_type": "code",
   "execution_count": 154,
   "metadata": {
    "id": "-n-HtHtuuPCK"
   },
   "outputs": [
    {
     "data": {
      "text/plain": [
       "(36651, 3)"
      ]
     },
     "execution_count": 154,
     "metadata": {},
     "output_type": "execute_result"
    }
   ],
   "source": [
    "# Filtering the rare terms.\n",
    "arxiv_data_filtered = arxiv_data.groupby(\"terms\").filter(lambda x: len(x) > 1)\n",
    "arxiv_data_filtered.shape"
   ]
  },
  {
   "cell_type": "markdown",
   "metadata": {
    "id": "1bQT9lvsuPCL"
   },
   "source": [
    "## Convert the string labels to lists of strings\n",
    "\n",
    "The initial labels are represented as raw strings. Here we make them `List[str]` for a\n",
    "more compact representation."
   ]
  },
  {
   "cell_type": "code",
   "execution_count": 155,
   "metadata": {
    "id": "poeDsbxNuPCL"
   },
   "outputs": [
    {
     "data": {
      "text/plain": [
       "array([list(['cs.CV', 'cs.LG']), list(['cs.CV', 'cs.AI', 'cs.LG']),\n",
       "       list(['cs.CV', 'cs.AI']), list(['cs.CV']),\n",
       "       list(['cs.CV', 'cs.LG'])], dtype=object)"
      ]
     },
     "execution_count": 155,
     "metadata": {},
     "output_type": "execute_result"
    }
   ],
   "source": [
    "arxiv_data_filtered[\"terms\"] = arxiv_data_filtered[\"terms\"].apply(\n",
    "    lambda x: literal_eval(x)\n",
    ")\n",
    "arxiv_data_filtered[\"terms\"].values[:5]"
   ]
  },
  {
   "cell_type": "markdown",
   "metadata": {
    "id": "9rMd13FiuPCL"
   },
   "source": [
    "## Use stratified splits because of class imbalance\n",
    "\n",
    "The dataset has a\n",
    "[class imbalance problem](https://developers.google.com/machine-learning/glossary/#class-imbalanced-dataset).\n",
    "So, to have a fair evaluation result, we need to ensure the datasets are sampled with\n",
    "stratification. To know more about different strategies to deal with the class imbalance\n",
    "problem, you can follow\n",
    "[this tutorial](https://www.tensorflow.org/tutorials/structured_data/imbalanced_data).\n",
    "For an end-to-end demonstration of classification with imbablanced data, refer to\n",
    "[Imbalanced classification: credit card fraud detection](https://keras.io/examples/structured_data/imbalanced_classification/)."
   ]
  },
  {
   "cell_type": "code",
   "execution_count": 156,
   "metadata": {
    "id": "-7ckHS7PuPCM"
   },
   "outputs": [
    {
     "name": "stdout",
     "output_type": "stream",
     "text": [
      "Number of rows in training set: 32985\n",
      "Number of rows in validation set: 1833\n",
      "Number of rows in test set: 1833\n"
     ]
    }
   ],
   "source": [
    "test_split = 0.1\n",
    "\n",
    "# Initial train and test split.\n",
    "train_df, test_df = train_test_split(\n",
    "    arxiv_data_filtered,\n",
    "    test_size=test_split,\n",
    "    stratify=arxiv_data_filtered[\"terms\"].values,\n",
    ")\n",
    "\n",
    "# Splitting the test set further into validation\n",
    "# and new test sets.\n",
    "val_df = test_df.sample(frac=0.5)\n",
    "test_df.drop(val_df.index, inplace=True)\n",
    "\n",
    "print(f\"Number of rows in training set: {len(train_df)}\")\n",
    "print(f\"Number of rows in validation set: {len(val_df)}\")\n",
    "print(f\"Number of rows in test set: {len(test_df)}\")"
   ]
  },
  {
   "cell_type": "markdown",
   "metadata": {
    "id": "TkY9W2M4uPCM"
   },
   "source": [
    "## Multi-label binarization\n",
    "\n",
    "Now we preprocess our labels using the\n",
    "[`StringLookup`](https://keras.io/api/layers/preprocessing_layers/categorical/string_lookup)\n",
    "layer."
   ]
  },
  {
   "cell_type": "code",
   "execution_count": 157,
   "metadata": {
    "id": "A2YgvZ56uPCN"
   },
   "outputs": [
    {
     "name": "stdout",
     "output_type": "stream",
     "text": [
      "Vocabulary:\n",
      "\n",
      "['[UNK]', 'cs.CV', 'cs.LG', 'stat.ML', 'cs.AI', 'eess.IV', 'cs.RO', 'cs.CL', 'cs.NE', 'cs.CR', 'math.OC', 'eess.SP', 'cs.GR', 'cs.SI', 'cs.MM', 'cs.SY', 'cs.IR', 'cs.MA', 'eess.SY', 'cs.HC', 'math.IT', 'cs.IT', 'cs.DC', 'cs.CY', 'stat.AP', 'stat.TH', 'math.ST', 'stat.ME', 'eess.AS', 'cs.SD', 'q-bio.QM', 'q-bio.NC', 'cs.DS', 'cs.GT', 'cs.CG', 'cs.NI', 'cs.SE', 'I.2.6', 'stat.CO', 'math.NA', 'cs.NA', 'physics.chem-ph', 'cs.DB', 'q-bio.BM', 'cs.LO', 'cond-mat.dis-nn', '68T45', 'math.PR', 'cs.PL', 'physics.comp-ph', 'cs.CE', 'cs.AR', 'I.2.10', 'q-fin.ST', 'cond-mat.stat-mech', 'quant-ph', 'math.DS', '68T05', 'physics.data-an', 'cs.CC', 'I.4.6', 'physics.soc-ph', 'physics.ao-ph', 'cs.DM', 'econ.EM', 'q-bio.GN', 'physics.med-ph', 'cs.PF', 'astro-ph.IM', 'I.4.8', 'math.AT', 'cs.FL', 'I.4', 'q-fin.TR', 'I.5.4', 'I.2', '68U10', 'physics.optics', 'physics.geo-ph', 'hep-ex', '68T10', 'cond-mat.mtrl-sci', 'physics.flu-dyn', 'math.CO', 'math.AP', 'I.4; I.5', 'I.4.9', 'I.2.6; I.2.8', 'I.2.10; I.4; I.5', '68T01', '65D19', 'q-fin.CP', 'nlin.CD', 'cs.MS', 'I.2.6; I.5.1', 'I.2.0; I.2.6', '68T07', 'cs.SC', 'cs.ET', 'K.3.2', 'I.2.8', 'I.2.10; I.4.8', '68U01', '68T30', 'q-fin.GN', 'q-fin.EC', 'q-bio.MN', 'econ.GN', 'I.4.9; I.5.4', 'I.4.5', 'I.2; I.5', 'I.2; I.4; I.5', 'I.2.6; I.2.7', '68T99', '68Q32', '68', '62H30', 'q-fin.RM', 'q-fin.PM', 'q-bio.TO', 'q-bio.OT', 'physics.bio-ph', 'nlin.AO', 'math.LO', 'math.FA', 'hep-ph', 'cond-mat.soft', 'I.4.6; I.4.8', 'I.4.4', 'I.4.3', 'I.4.0', 'I.2; J.2', 'I.2; I.2.6; I.2.7', 'I.2.7', 'I.2.6; I.5.4', 'I.2.6; I.2.9', 'I.2.6; I.2.7; H.3.1; H.3.3', 'I.2.6; I.2.10', 'I.2.6, I.5.4', 'I.2.1; J.3', 'I.2.10; I.5.1; I.4.8', 'I.2.10; I.4.8; I.5.4', 'I.2.10; I.2.6', 'I.2.1', 'H.3.1; I.2.6; I.2.7', 'H.3.1; H.3.3; I.2.6; I.2.7', 'G.3', 'F.2.2; I.2.7', 'E.5; E.4; E.2; H.1.1; F.1.1; F.1.3', '68Txx', '62H99', '62H35', '14J60 (Primary) 14F05, 14J26 (Secondary)']\n"
     ]
    }
   ],
   "source": [
    "terms = tf.ragged.constant(train_df[\"terms\"].values)\n",
    "lookup = tf.keras.layers.StringLookup(output_mode=\"multi_hot\")\n",
    "lookup.adapt(terms)\n",
    "vocab = lookup.get_vocabulary()\n",
    "\n",
    "\n",
    "def invert_multi_hot(encoded_labels):\n",
    "    \"\"\"Reverse a single multi-hot encoded label to a tuple of vocab terms.\"\"\"\n",
    "    hot_indices = np.argwhere(encoded_labels == 1.0)[..., 0]\n",
    "    return np.take(vocab, hot_indices)\n",
    "\n",
    "\n",
    "print(\"Vocabulary:\\n\")\n",
    "print(vocab)\n"
   ]
  },
  {
   "cell_type": "markdown",
   "metadata": {
    "id": "wVhu06PQuPCN"
   },
   "source": [
    "Here we are separating the individual unique classes available from the label\n",
    "pool and then using this information to represent a given label set with 0's and 1's.\n",
    "Below is an example."
   ]
  },
  {
   "cell_type": "markdown",
   "metadata": {
    "id": "vUHPGyir8Tvo"
   },
   "source": []
  },
  {
   "cell_type": "code",
   "execution_count": 158,
   "metadata": {
    "id": "IBxYh_05uPCO"
   },
   "outputs": [
    {
     "name": "stdout",
     "output_type": "stream",
     "text": [
      "Original label: ['cs.LG']\n",
      "Label-binarized representation: [[0. 0. 1. 0. 0. 0. 0. 0. 0. 0. 0. 0. 0. 0. 0. 0. 0. 0. 0. 0. 0. 0. 0. 0.\n",
      "  0. 0. 0. 0. 0. 0. 0. 0. 0. 0. 0. 0. 0. 0. 0. 0. 0. 0. 0. 0. 0. 0. 0. 0.\n",
      "  0. 0. 0. 0. 0. 0. 0. 0. 0. 0. 0. 0. 0. 0. 0. 0. 0. 0. 0. 0. 0. 0. 0. 0.\n",
      "  0. 0. 0. 0. 0. 0. 0. 0. 0. 0. 0. 0. 0. 0. 0. 0. 0. 0. 0. 0. 0. 0. 0. 0.\n",
      "  0. 0. 0. 0. 0. 0. 0. 0. 0. 0. 0. 0. 0. 0. 0. 0. 0. 0. 0. 0. 0. 0. 0. 0.\n",
      "  0. 0. 0. 0. 0. 0. 0. 0. 0. 0. 0. 0. 0. 0. 0. 0. 0. 0. 0. 0. 0. 0. 0. 0.\n",
      "  0. 0. 0. 0. 0. 0. 0. 0. 0.]]\n"
     ]
    }
   ],
   "source": [
    "sample_label = train_df[\"terms\"].iloc[0]\n",
    "print(f\"Original label: {sample_label}\")\n",
    "\n",
    "label_binarized = lookup([sample_label])\n",
    "print(f\"Label-binarized representation: {label_binarized}\")"
   ]
  },
  {
   "cell_type": "code",
   "execution_count": 159,
   "metadata": {
    "id": "GBJdmeSAudEt"
   },
   "outputs": [
    {
     "data": {
      "text/html": [
       "<div>\n",
       "<style scoped>\n",
       "    .dataframe tbody tr th:only-of-type {\n",
       "        vertical-align: middle;\n",
       "    }\n",
       "\n",
       "    .dataframe tbody tr th {\n",
       "        vertical-align: top;\n",
       "    }\n",
       "\n",
       "    .dataframe thead th {\n",
       "        text-align: right;\n",
       "    }\n",
       "</style>\n",
       "<table border=\"1\" class=\"dataframe\">\n",
       "  <thead>\n",
       "    <tr style=\"text-align: right;\">\n",
       "      <th></th>\n",
       "      <th>titles</th>\n",
       "      <th>summaries</th>\n",
       "      <th>terms</th>\n",
       "    </tr>\n",
       "  </thead>\n",
       "  <tbody>\n",
       "    <tr>\n",
       "      <th>10967</th>\n",
       "      <td>Tsformer: Time series Transformer for tourism ...</td>\n",
       "      <td>AI-based methods have been widely applied to t...</td>\n",
       "      <td>[cs.LG]</td>\n",
       "    </tr>\n",
       "    <tr>\n",
       "      <th>4253</th>\n",
       "      <td>Structure-Aware Network for Lane Marker Extrac...</td>\n",
       "      <td>Lane marker extraction is a basic yet necessar...</td>\n",
       "      <td>[cs.CV]</td>\n",
       "    </tr>\n",
       "    <tr>\n",
       "      <th>34553</th>\n",
       "      <td>MarlRank: Multi-agent Reinforced Learning to Rank</td>\n",
       "      <td>When estimating the relevancy between a query ...</td>\n",
       "      <td>[cs.LG, cs.IR, stat.ML]</td>\n",
       "    </tr>\n",
       "    <tr>\n",
       "      <th>14596</th>\n",
       "      <td>Mitigating Greenhouse Gas Emissions Through Ge...</td>\n",
       "      <td>Over the past decade, the number of wildfire h...</td>\n",
       "      <td>[cs.LG, eess.SP]</td>\n",
       "    </tr>\n",
       "    <tr>\n",
       "      <th>23147</th>\n",
       "      <td>Estimation of Shortest Path Covariance Matrices</td>\n",
       "      <td>We study the sample complexity of estimating t...</td>\n",
       "      <td>[cs.LG, cs.DS]</td>\n",
       "    </tr>\n",
       "    <tr>\n",
       "      <th>...</th>\n",
       "      <td>...</td>\n",
       "      <td>...</td>\n",
       "      <td>...</td>\n",
       "    </tr>\n",
       "    <tr>\n",
       "      <th>27633</th>\n",
       "      <td>Learning Monocular Depth by Distilling Cross-d...</td>\n",
       "      <td>Monocular depth estimation aims at estimating ...</td>\n",
       "      <td>[cs.CV]</td>\n",
       "    </tr>\n",
       "    <tr>\n",
       "      <th>24668</th>\n",
       "      <td>ChemGrapher: Optical Graph Recognition of Chem...</td>\n",
       "      <td>In drug discovery, knowledge of the graph stru...</td>\n",
       "      <td>[stat.ML, cs.LG]</td>\n",
       "    </tr>\n",
       "    <tr>\n",
       "      <th>27282</th>\n",
       "      <td>Exploiting Depth Information for Wildlife Moni...</td>\n",
       "      <td>Camera traps are a proven tool in biology and ...</td>\n",
       "      <td>[cs.CV]</td>\n",
       "    </tr>\n",
       "    <tr>\n",
       "      <th>33961</th>\n",
       "      <td>On Reinforcement Learning for Turn-based Zero-...</td>\n",
       "      <td>We consider the problem of finding Nash equili...</td>\n",
       "      <td>[cs.LG, stat.ML]</td>\n",
       "    </tr>\n",
       "    <tr>\n",
       "      <th>34534</th>\n",
       "      <td>Deep Exploration via Randomized Value Functions</td>\n",
       "      <td>We study the use of randomized value functions...</td>\n",
       "      <td>[stat.ML, cs.AI, cs.LG]</td>\n",
       "    </tr>\n",
       "  </tbody>\n",
       "</table>\n",
       "<p>32985 rows × 3 columns</p>\n",
       "</div>"
      ],
      "text/plain": [
       "                                                  titles  \\\n",
       "10967  Tsformer: Time series Transformer for tourism ...   \n",
       "4253   Structure-Aware Network for Lane Marker Extrac...   \n",
       "34553  MarlRank: Multi-agent Reinforced Learning to Rank   \n",
       "14596  Mitigating Greenhouse Gas Emissions Through Ge...   \n",
       "23147    Estimation of Shortest Path Covariance Matrices   \n",
       "...                                                  ...   \n",
       "27633  Learning Monocular Depth by Distilling Cross-d...   \n",
       "24668  ChemGrapher: Optical Graph Recognition of Chem...   \n",
       "27282  Exploiting Depth Information for Wildlife Moni...   \n",
       "33961  On Reinforcement Learning for Turn-based Zero-...   \n",
       "34534    Deep Exploration via Randomized Value Functions   \n",
       "\n",
       "                                               summaries  \\\n",
       "10967  AI-based methods have been widely applied to t...   \n",
       "4253   Lane marker extraction is a basic yet necessar...   \n",
       "34553  When estimating the relevancy between a query ...   \n",
       "14596  Over the past decade, the number of wildfire h...   \n",
       "23147  We study the sample complexity of estimating t...   \n",
       "...                                                  ...   \n",
       "27633  Monocular depth estimation aims at estimating ...   \n",
       "24668  In drug discovery, knowledge of the graph stru...   \n",
       "27282  Camera traps are a proven tool in biology and ...   \n",
       "33961  We consider the problem of finding Nash equili...   \n",
       "34534  We study the use of randomized value functions...   \n",
       "\n",
       "                         terms  \n",
       "10967                  [cs.LG]  \n",
       "4253                   [cs.CV]  \n",
       "34553  [cs.LG, cs.IR, stat.ML]  \n",
       "14596         [cs.LG, eess.SP]  \n",
       "23147           [cs.LG, cs.DS]  \n",
       "...                        ...  \n",
       "27633                  [cs.CV]  \n",
       "24668         [stat.ML, cs.LG]  \n",
       "27282                  [cs.CV]  \n",
       "33961         [cs.LG, stat.ML]  \n",
       "34534  [stat.ML, cs.AI, cs.LG]  \n",
       "\n",
       "[32985 rows x 3 columns]"
      ]
     },
     "execution_count": 159,
     "metadata": {},
     "output_type": "execute_result"
    }
   ],
   "source": [
    "train_df"
   ]
  },
  {
   "cell_type": "markdown",
   "metadata": {
    "id": "30lIzcFOuPCO"
   },
   "source": [
    "## Data preprocessing and `tf.data.Dataset` objects\n",
    "\n",
    "We first get percentile estimates of the sequence lengths. The purpose will be clear in a\n",
    "moment."
   ]
  },
  {
   "cell_type": "code",
   "execution_count": 160,
   "metadata": {
    "id": "5F9b5wSduPCO"
   },
   "outputs": [
    {
     "data": {
      "text/plain": [
       "count    32985.000000\n",
       "mean       156.667152\n",
       "std         41.400376\n",
       "min          5.000000\n",
       "25%        128.000000\n",
       "50%        155.000000\n",
       "75%        183.000000\n",
       "max        297.000000\n",
       "Name: summaries, dtype: float64"
      ]
     },
     "execution_count": 160,
     "metadata": {},
     "output_type": "execute_result"
    }
   ],
   "source": [
    "train_df[\"summaries\"].apply(lambda x: len(x.split(\" \"))).describe()"
   ]
  },
  {
   "cell_type": "markdown",
   "metadata": {
    "id": "Km527i1quPCP"
   },
   "source": [
    "Notice that 50% of the abstracts have a length of 154 (you may get a different number\n",
    "based on the split). So, any number close to that value is a good enough approximate for the\n",
    "maximum sequence length.\n",
    "\n",
    "Now, we implement utilities to prepare our datasets that would go straight to the text\n",
    "classifier model."
   ]
  },
  {
   "cell_type": "code",
   "execution_count": 185,
   "metadata": {
    "id": "UKCU8Qi-uPCR"
   },
   "outputs": [
    {
     "name": "stdout",
     "output_type": "stream",
     "text": [
      "Found 239767 unique tokens.\n",
      "(32985, 50)\n",
      "(1833, 50)\n"
     ]
    }
   ],
   "source": [
    "#text_vectorizer = layers.TextVectorization(\n",
    "#    max_tokens=vocabulary_size, ngrams=2, output_mode=\"tf_idf\"\n",
    "#)\n",
    "\n",
    "maxWords = 100000\n",
    "maxSeqLen = 50\n",
    "embeddingDim = 100\n",
    "\n",
    "tokenizer = tf.keras.preprocessing.text.Tokenizer(num_words=maxWords, filters='!\"#$%&()*+,-./:;<=>?@[\\]^_`{|}~', lower=True)\n",
    "tokenizer.fit_on_texts(train_df['summaries'].values)\n",
    "word_index = tokenizer.word_index\n",
    "print('Found %s unique tokens.' % len(word_index))\n",
    "\n",
    "X_train = tokenizer.texts_to_sequences(train_df['summaries'].values)\n",
    "X_train = tf.keras.preprocessing.sequence.pad_sequences(X_train, maxlen=maxSeqLen)\n",
    "\n",
    "X_test= tokenizer.texts_to_sequences(test_df['summaries'].values)\n",
    "X_test = tf.keras.preprocessing.sequence.pad_sequences(X_test, maxlen=maxSeqLen)\n",
    "\n",
    "X_val = tokenizer.texts_to_sequences(val_df['summaries'].values)\n",
    "X_val = tf.keras.preprocessing.sequence.pad_sequences(X_val, maxlen=maxSeqLen)\n",
    "\n",
    "print(X_train.shape)\n",
    "print(X_test.shape)\n"
   ]
  },
  {
   "cell_type": "code",
   "execution_count": 186,
   "metadata": {
    "id": "lDPMjUi4uPCP"
   },
   "outputs": [
    {
     "name": "stdout",
     "output_type": "stream",
     "text": [
      "(32985, 153)\n",
      "(1833, 153)\n",
      "(1833, 153)\n"
     ]
    }
   ],
   "source": [
    "train_labels = tf.ragged.constant(train_df[\"terms\"].values)\n",
    "train_label_binarized = lookup(train_labels).numpy()\n",
    "print(train_label_binarized.shape)\n",
    "\n",
    "test_labels = tf.ragged.constant(test_df[\"terms\"].values)\n",
    "test_label_binarized = lookup(test_labels).numpy()\n",
    "print(test_label_binarized.shape)\n",
    "\n",
    "val_labels = tf.ragged.constant(val_df[\"terms\"].values)\n",
    "val_label_binarized = lookup(val_labels).numpy()\n",
    "print(val_label_binarized.shape)\n",
    "#    dataset = tf.data.Dataset.from_tensor_slices(\n",
    "#        (dataframe[\"summaries\"].values, label_binarized)\n",
    "#    )\n",
    "#    dataset = dataset.shuffle(batch_size * 10) if is_train else dataset\n",
    "#    dataset = dataset.map(unify_text_length, num_parallel_calls=auto).cache()\n",
    "#    return dataset.batch(batch_size)\n"
   ]
  },
  {
   "cell_type": "markdown",
   "metadata": {
    "id": "k-uXT0JVuPCQ"
   },
   "source": [
    "Now we can prepare the `tf.data.Dataset` objects."
   ]
  },
  {
   "cell_type": "code",
   "execution_count": 187,
   "metadata": {
    "id": "uSdl_gmtuPCQ"
   },
   "outputs": [],
   "source": [
    "#train_dataset = make_dataset(train_df, is_train=True)\n",
    "#validation_dataset = make_dataset(val_df, is_train=False)\n",
    "#test_dataset = make_dataset(test_df, is_train=False)"
   ]
  },
  {
   "cell_type": "markdown",
   "metadata": {
    "id": "UG_cbSnsuPCQ"
   },
   "source": [
    "## Dataset preview"
   ]
  },
  {
   "cell_type": "code",
   "execution_count": 188,
   "metadata": {
    "id": "WBRKgLuBuPCQ"
   },
   "outputs": [],
   "source": [
    "#text_batch, label_batch = next(iter(train_dataset))\n",
    "\n",
    "#for i, text in enumerate(text_batch[:5]):\n",
    "#    label = label_batch[i].numpy()[None, ...]\n",
    "#    print(f\"Abstract: {text[0]}\")\n",
    "#    print(f\"Label(s): {invert_multi_hot(label[0])}\")\n",
    "#    print(\" \")"
   ]
  },
  {
   "cell_type": "markdown",
   "metadata": {
    "id": "Sn2icscHuPCR"
   },
   "source": [
    "## Vectorization\n",
    "\n",
    "Before we feed the data to our model, we need to vectorize it (represent it in a numerical form).\n",
    "For that purpose, we will use the\n",
    "[`TextVectorization` layer](https://keras.io/api/layers/preprocessing_layers/text/text_vectorization).\n",
    "It can operate as a part of your main model so that the model is excluded from the core\n",
    "preprocessing logic. This greatly reduces the chances of training / serving skew during inference.\n",
    "\n",
    "We first calculate the number of unique words present in the abstracts."
   ]
  },
  {
   "cell_type": "code",
   "execution_count": 189,
   "metadata": {
    "id": "8a50f3mkuPCR"
   },
   "outputs": [
    {
     "name": "stdout",
     "output_type": "stream",
     "text": [
      "Vocabulary size: 326\n"
     ]
    }
   ],
   "source": [
    "train_df[\"total_words\"] = train_df[\"summaries\"].str.split().str.len()\n",
    "vocabulary_size = train_df[\"total_words\"].max()\n",
    "print(f\"Vocabulary size: {vocabulary_size}\")"
   ]
  },
  {
   "cell_type": "markdown",
   "metadata": {
    "id": "TqrMK3EeuPCR"
   },
   "source": [
    "We now create our vectorization layer and `map()` to the `tf.data.Dataset`s created\n",
    "earlier."
   ]
  },
  {
   "cell_type": "markdown",
   "metadata": {
    "id": "56SroinguPCS"
   },
   "source": [
    "A batch of raw text will first go through the `TextVectorization` layer and it will\n",
    "generate their integer representations. Internally, the `TextVectorization` layer will\n",
    "first create bi-grams out of the sequences and then represent them using\n",
    "[TF-IDF](https://wikipedia.org/wiki/Tf%E2%80%93idf). The output representations will then\n",
    "be passed to the shallow model responsible for text classification.\n",
    "\n",
    "To learn more about other possible configurations with `TextVectorizer`, please consult\n",
    "the\n",
    "[official documentation](https://keras.io/api/layers/preprocessing_layers/text/text_vectorization).\n",
    "\n",
    "**Note**: Setting the `max_tokens` argument to a pre-calculated vocabulary size is\n",
    "not a requirement."
   ]
  },
  {
   "cell_type": "markdown",
   "metadata": {
    "id": "lN3sk6CiuPCS"
   },
   "source": [
    "## Create a text classification model\n",
    "\n",
    "We will keep our model simple -- it will be a small stack of fully-connected layers with\n",
    "ReLU as the non-linearity."
   ]
  },
  {
   "cell_type": "code",
   "execution_count": 198,
   "metadata": {
    "id": "G5ITudV3uPCS"
   },
   "outputs": [],
   "source": [
    "\n",
    "def make_model():\n",
    "    shallow_mlp_model = keras.Sequential(\n",
    "        [\n",
    "            layers.Embedding(maxWords,embeddingDim, input_length=X_train.shape[1]),\n",
    "            layers.SpatialDropout1D(0.3),\n",
    "            layers.LSTM(150, dropout=0.2, recurrent_dropout=0.2),\n",
    "            #layers.LSTM(10, dropout=0.2, recurrent_dropout=0.2),\n",
    "            layers.Dense(153, activation=\"softmax\"),\n",
    "        ]  # More on why \"sigmoid\" has been used here in a moment.\n",
    "    )\n",
    "    return shallow_mlp_model\n"
   ]
  },
  {
   "cell_type": "markdown",
   "metadata": {
    "id": "MXKd7yIMuPCT"
   },
   "source": [
    "## Train the model\n",
    "\n",
    "We will train our model using the binary crossentropy loss. This is because the labels\n",
    "are not disjoint. For a given abstract, we may have multiple categories. So, we will\n",
    "divide the prediction task into a series of multiple binary classification problems. This\n",
    "is also why we kept the activation function of the classification layer in our model to\n",
    "sigmoid. Researchers have used other combinations of loss function and activation\n",
    "function as well. For example, in\n",
    "[Exploring the Limits of Weakly Supervised Pretraining](https://arxiv.org/abs/1805.00932),\n",
    "Mahajan et al. used the softmax activation function and cross-entropy loss to train\n",
    "their models."
   ]
  },
  {
   "cell_type": "code",
   "execution_count": 201,
   "metadata": {
    "id": "KaDe2xwxuPCT"
   },
   "outputs": [
    {
     "name": "stdout",
     "output_type": "stream",
     "text": [
      "Epoch 1/20\n",
      "928/928 [==============================] - 91s 96ms/step - loss: 0.0392 - accuracy: 0.5174 - val_loss: 0.0277 - val_accuracy: 0.5717\n",
      "Epoch 2/20\n",
      "928/928 [==============================] - 89s 96ms/step - loss: 0.0277 - accuracy: 0.5199 - val_loss: 0.0277 - val_accuracy: 0.5717\n",
      "Epoch 3/20\n",
      "928/928 [==============================] - 89s 96ms/step - loss: 0.0265 - accuracy: 0.6593 - val_loss: 0.0271 - val_accuracy: 0.7845\n",
      "Epoch 4/20\n",
      "928/928 [==============================] - 89s 95ms/step - loss: 0.0253 - accuracy: 0.7418 - val_loss: 0.0229 - val_accuracy: 0.8184\n",
      "Epoch 5/20\n",
      "928/928 [==============================] - 90s 97ms/step - loss: 0.0220 - accuracy: 0.8486 - val_loss: 0.0219 - val_accuracy: 0.8360\n",
      "Epoch 6/20\n",
      "928/928 [==============================] - 93s 100ms/step - loss: 0.0207 - accuracy: 0.8834 - val_loss: 0.0216 - val_accuracy: 0.8569\n",
      "Epoch 7/20\n",
      "928/928 [==============================] - 93s 100ms/step - loss: 0.0196 - accuracy: 0.9046 - val_loss: 0.0219 - val_accuracy: 0.8587\n",
      "Epoch 8/20\n",
      "928/928 [==============================] - 96s 104ms/step - loss: 0.0185 - accuracy: 0.9209 - val_loss: 0.0221 - val_accuracy: 0.8560\n",
      "Epoch 9/20\n",
      "928/928 [==============================] - 93s 100ms/step - loss: 0.0177 - accuracy: 0.9291 - val_loss: 0.0226 - val_accuracy: 0.8469\n",
      "Epoch 10/20\n",
      "928/928 [==============================] - 92s 100ms/step - loss: 0.0169 - accuracy: 0.9322 - val_loss: 0.0234 - val_accuracy: 0.8484\n",
      "Epoch 11/20\n",
      "928/928 [==============================] - 92s 99ms/step - loss: 0.0164 - accuracy: 0.9344 - val_loss: 0.0237 - val_accuracy: 0.8306\n",
      "Epoch 12/20\n",
      "928/928 [==============================] - 92s 99ms/step - loss: 0.0157 - accuracy: 0.9333 - val_loss: 0.0245 - val_accuracy: 0.8442\n"
     ]
    }
   ],
   "source": [
    "epochs = 20\n",
    "trainingDatset = tf.data.Dataset.from_tensor_slices(X_train)\n",
    "validationDataset = tf.data.Dataset.from_tensor_slices(X_val)\n",
    "\n",
    "shallow_mlp_model = make_model()\n",
    "shallow_mlp_model.compile(\n",
    "    loss=\"binary_crossentropy\", optimizer=\"adam\", metrics=[\"accuracy\"]\n",
    ")\n",
    "\n",
    "history = shallow_mlp_model.fit(\n",
    "    X_train, train_label_binarized, epochs=epochs, batch_size = 64, validation_split=0.1, callbacks=[keras.callbacks.EarlyStopping(monitor='val_loss', patience=6, min_delta=0.0001)]\n",
    ")\n",
    "\n",
    "\n",
    "def plot_result(item):\n",
    "    plt.plot(history.history[item], label=item)\n",
    "    plt.plot(history.history[\"val_\" + item], label=\"val_\" + item)\n",
    "    plt.xlabel(\"Epochs\")\n",
    "    plt.ylabel(item)\n",
    "    plt.title(\"Train and Validation {} Over Epochs\".format(item), fontsize=14)\n",
    "    plt.legend()\n",
    "    plt.grid()\n",
    "    plt.show()\n",
    "\n",
    "\n"
   ]
  },
  {
   "cell_type": "markdown",
   "metadata": {
    "id": "OTB3V-ysuPCT"
   },
   "source": [
    "While training, we notice an initial sharp fall in the loss followed by a gradual decay."
   ]
  },
  {
   "cell_type": "markdown",
   "metadata": {
    "id": "dsUuAlfTuPCT"
   },
   "source": [
    "### Evaluate the model"
   ]
  },
  {
   "cell_type": "code",
   "execution_count": 177,
   "metadata": {
    "id": "VI4jrSFbuPCU"
   },
   "outputs": [
    {
     "data": {
      "image/png": "[encoded data removed]",
      "text/plain": [
       "<Figure size 432x288 with 1 Axes>"
      ]
     },
     "metadata": {
      "needs_background": "light"
     },
     "output_type": "display_data"
    },
    {
     "data": {
      "image/png": "[encoded data removed]",
      "text/plain": [
       "<Figure size 432x288 with 1 Axes>"
      ]
     },
     "metadata": {
      "needs_background": "light"
     },
     "output_type": "display_data"
    },
    {
     "name": "stdout",
     "output_type": "stream",
     "text": [
      "58/58 [==============================] - 1s 11ms/step - loss: 0.0233 - accuracy: 0.8282\n",
      "Accuracy on the test set: 82.82%.\n"
     ]
    }
   ],
   "source": [
    "plot_result(\"loss\")\n",
    "plot_result(\"accuracy\")\n",
    "_, acc = shallow_mlp_model.evaluate(X_test,test_label_binarized)\n",
    "print(f\"Accuracy on the test set: {round(acc * 100, 2)}%.\")"
   ]
  },
  {
   "cell_type": "markdown",
   "metadata": {
    "id": "X7zHKRuFuPCU"
   },
   "source": [
    "The trained model gives us an evaluation accuracy of ~87%."
   ]
  },
  {
   "cell_type": "markdown",
   "metadata": {
    "id": "j9eoo4R6uPCU"
   },
   "source": [
    "## Inference\n",
    "\n",
    "An important feature of the\n",
    "[preprocessing layers provided by Keras](https://keras.io/guides/preprocessing_layers/)\n",
    "is that they can be included inside a `tf.keras.Model`. We will export an inference model\n",
    "by including the `text_vectorization` layer on top of `shallow_mlp_model`. This will\n",
    "allow our inference model to directly operate on raw strings.\n",
    "\n",
    "**Note** that during training it is always preferable to use these preprocessing\n",
    "layers as a part of the data input pipeline rather than the model to avoid\n",
    "surfacing bottlenecks for the hardware accelerators. This also allows for\n",
    "asynchronous data processing."
   ]
  },
  {
   "cell_type": "code",
   "execution_count": 169,
   "metadata": {
    "id": "XOYdnkuRuPCV"
   },
   "outputs": [
    {
     "ename": "NameError",
     "evalue": "name 'text_vectorizer' is not defined",
     "output_type": "error",
     "traceback": [
      "\u001b[0;31m---------------------------------------------------------------------------\u001b[0m",
      "\u001b[0;31mNameError\u001b[0m                                 Traceback (most recent call last)",
      "\u001b[0;32m/tmp/ipykernel_3066/788042281.py\u001b[0m in \u001b[0;36m<module>\u001b[0;34m\u001b[0m\n\u001b[1;32m      1\u001b[0m \u001b[0;31m# Create a model for inference.\u001b[0m\u001b[0;34m\u001b[0m\u001b[0;34m\u001b[0m\u001b[0m\n\u001b[0;32m----> 2\u001b[0;31m \u001b[0mmodel_for_inference\u001b[0m \u001b[0;34m=\u001b[0m \u001b[0mkeras\u001b[0m\u001b[0;34m.\u001b[0m\u001b[0mSequential\u001b[0m\u001b[0;34m(\u001b[0m\u001b[0;34m[\u001b[0m\u001b[0mtext_vectorizer\u001b[0m\u001b[0;34m,\u001b[0m \u001b[0mshallow_mlp_model\u001b[0m\u001b[0;34m]\u001b[0m\u001b[0;34m)\u001b[0m\u001b[0;34m\u001b[0m\u001b[0;34m\u001b[0m\u001b[0m\n\u001b[0m\u001b[1;32m      3\u001b[0m \u001b[0;34m\u001b[0m\u001b[0m\n\u001b[1;32m      4\u001b[0m \u001b[0;31m# Create a small dataset just for demoing inference.\u001b[0m\u001b[0;34m\u001b[0m\u001b[0;34m\u001b[0m\u001b[0m\n\u001b[1;32m      5\u001b[0m \u001b[0minference_dataset\u001b[0m \u001b[0;34m=\u001b[0m \u001b[0mmake_dataset\u001b[0m\u001b[0;34m(\u001b[0m\u001b[0mtest_df\u001b[0m\u001b[0;34m.\u001b[0m\u001b[0msample\u001b[0m\u001b[0;34m(\u001b[0m\u001b[0;36m100\u001b[0m\u001b[0;34m)\u001b[0m\u001b[0;34m,\u001b[0m \u001b[0mis_train\u001b[0m\u001b[0;34m=\u001b[0m\u001b[0;32mFalse\u001b[0m\u001b[0;34m)\u001b[0m\u001b[0;34m\u001b[0m\u001b[0;34m\u001b[0m\u001b[0m\n",
      "\u001b[0;31mNameError\u001b[0m: name 'text_vectorizer' is not defined"
     ]
    }
   ],
   "source": [
    "# Create a model for inference.\n",
    "model_for_inference = keras.Sequential([text_vectorizer, shallow_mlp_model])\n",
    "\n",
    "# Create a small dataset just for demoing inference.\n",
    "inference_dataset = make_dataset(test_df.sample(100), is_train=False)\n",
    "text_batch, label_batch = next(iter(inference_dataset))\n",
    "predicted_probabilities = model_for_inference.predict(text_batch)\n",
    "\n",
    "# Perform inference.\n",
    "for i, text in enumerate(text_batch[:5]):\n",
    "    label = label_batch[i].numpy()[None, ...]\n",
    "    print(f\"Abstract: {text[0]}\")\n",
    "    print(f\"Label(s): {invert_multi_hot(label[0])}\")\n",
    "    predicted_proba = [proba for proba in predicted_probabilities[i]]\n",
    "    top_3_labels = [\n",
    "        x\n",
    "        for _, x in sorted(\n",
    "            zip(predicted_probabilities[i], lookup.get_vocabulary()),\n",
    "            key=lambda pair: pair[0],\n",
    "            reverse=True,\n",
    "        )\n",
    "    ][:3]\n",
    "    print(f\"Predicted Label(s): ({', '.join([label for label in top_3_labels])})\")\n",
    "    print(\" \")"
   ]
  },
  {
   "cell_type": "markdown",
   "metadata": {
    "id": "Z067hmqquPCV"
   },
   "source": [
    "The prediction results are not that great but not below the par for a simple model like\n",
    "ours. We can improve this performance with models that consider word order like LSTM or\n",
    "even those that use Transformers ([Vaswani et al.](https://arxiv.org/abs/1706.03762))."
   ]
  },
  {
   "cell_type": "markdown",
   "metadata": {
    "id": "8rjGoTMZuPCV"
   },
   "source": [
    "## Acknowledgements\n",
    "\n",
    "We would like to thank [Matt Watson](https://github.com/mattdangerw) for helping us\n",
    "tackle the multi-label binarization part and inverse-transforming the processed labels\n",
    "to the original form."
   ]
  }
 ],
 "metadata": {
  "colab": {
   "collapsed_sections": [],
   "name": "LSTM",
   "provenance": []
  },
  "kernelspec": {
   "display_name": "Python 3 (ipykernel)",
   "language": "python",
   "name": "python3"
  },
  "language_info": {
   "codemirror_mode": {
    "name": "ipython",
    "version": 3
   },
   "file_extension": ".py",
   "mimetype": "text/x-python",
   "name": "python",
   "nbconvert_exporter": "python",
   "pygments_lexer": "ipython3",
   "version": "3.9.7"
  }
 },
 "nbformat": 4,
 "nbformat_minor": 1
}
